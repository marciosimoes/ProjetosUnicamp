{
 "cells": [
  {
   "cell_type": "markdown",
   "metadata": {},
   "source": [
    "# Projeto 1 - MS629"
   ]
  },
  {
   "cell_type": "markdown",
   "metadata": {},
   "source": [
    "Marcio Simões - 183360"
   ]
  },
  {
   "cell_type": "code",
   "execution_count": 1,
   "metadata": {},
   "outputs": [],
   "source": [
    "import numpy as np\n",
    "from sympy import *"
   ]
  },
  {
   "cell_type": "code",
   "execution_count": 2,
   "metadata": {},
   "outputs": [],
   "source": [
    "# Defini os parametros\n",
    "sig = 0.001\n",
    "alp = 0.0001\n",
    "gama = 0.5\n",
    "the = 0.000001\n",
    "beta = 0.001\n",
    "M = 2500\n",
    "epi = 0.1"
   ]
  },
  {
   "cell_type": "markdown",
   "metadata": {},
   "source": [
    "## Função gradiente e hessiano"
   ]
  },
  {
   "cell_type": "markdown",
   "metadata": {},
   "source": [
    "Definindo algumas funções gerais utilizadas em todos os métodos."
   ]
  },
  {
   "cell_type": "code",
   "execution_count": 3,
   "metadata": {},
   "outputs": [],
   "source": [
    "# Definindo as funções\n",
    "def gradient_op(variables, f):\n",
    "    return Matrix([Lambda(variables, f.diff(v)) for v in variables])\n",
    "\n",
    "def hessiano_op(variables, f):\n",
    "    return Matrix([[Lambda(variables, f.diff(v,u)) for u in variables] for v in variables])"
   ]
  },
  {
   "cell_type": "code",
   "execution_count": 4,
   "metadata": {},
   "outputs": [],
   "source": [
    "# Funções para o cálculo\n",
    "def gradient_res(grad_f, vetor):\n",
    "    results = []\n",
    "    for dx in grad_f:\n",
    "        results.append(dx(*vetor))\n",
    "    return results\n",
    "\n",
    "def hessiano_res(hes_f, vetor):\n",
    "    matrix = []\n",
    "    lin = []\n",
    "    arr = np.array(hes_f)\n",
    "    for i in arr:\n",
    "        for j in i:\n",
    "            lin.append(j(*vetor))\n",
    "        matrix.append(lin)\n",
    "        lin = []\n",
    "    return Matrix(matrix)"
   ]
  },
  {
   "cell_type": "code",
   "execution_count": 5,
   "metadata": {},
   "outputs": [],
   "source": [
    "# Função para o cálculo de módulos\n",
    "def modulo(x): \n",
    "    return float(sqrt(sum(i**2 for i in x)))"
   ]
  },
  {
   "cell_type": "markdown",
   "metadata": {},
   "source": [
    "### Exemplos\n",
    "\n",
    "Definindo uma função qualquer para teste dos cálculos anteriores."
   ]
  },
  {
   "cell_type": "code",
   "execution_count": 6,
   "metadata": {},
   "outputs": [],
   "source": [
    "# Defini variaveis\n",
    "init_printing()\n",
    "variables_ex = var('x1:3')"
   ]
  },
  {
   "cell_type": "code",
   "execution_count": 7,
   "metadata": {
    "scrolled": true
   },
   "outputs": [
    {
     "data": {
      "image/png": "[encoded data removed]",
      "text/latex": [
       "$\\displaystyle \\left( \\left( x_{1}, \\  x_{2}\\right) \\mapsto x_{1}^{4} + 2 x_{1}^{2} x_{2} - 4 x_{1} + x_{2}^{2} \\right)$"
      ],
      "text/plain": [
       "             4       2               2\n",
       "(x₁, x₂) ↦ x₁  + 2⋅x₁ ⋅x₂ - 4⋅x₁ + x₂ "
      ]
     },
     "execution_count": 7,
     "metadata": {},
     "output_type": "execute_result"
    }
   ],
   "source": [
    "# Defini a função\n",
    "f_ex = x1**4+2*x2*x1**2+x2**2-4*x1\n",
    "fl_ex = Lambda(variables_ex, f_ex)\n",
    "fl_ex"
   ]
  },
  {
   "cell_type": "code",
   "execution_count": 8,
   "metadata": {},
   "outputs": [
    {
     "data": {
      "text/latex": [
       "$\\displaystyle \\left[\\begin{matrix}\\left( \\left( x_{1}, \\  x_{2}\\right) \\mapsto 4 x_{1}^{3} + 4 x_{1} x_{2} - 4 \\right)\\\\\\left( \\left( x_{1}, \\  x_{2}\\right) \\mapsto 2 x_{1}^{2} + 2 x_{2} \\right)\\end{matrix}\\right]$"
      ],
      "text/plain": [
       "⎡               3              ⎤\n",
       "⎢(x₁, x₂) ↦ 4⋅x₁  + 4⋅x₁⋅x₂ - 4⎥\n",
       "⎢                              ⎥\n",
       "⎢                  2           ⎥\n",
       "⎣   (x₁, x₂) ↦ 2⋅x₁  + 2⋅x₂    ⎦"
      ]
     },
     "execution_count": 8,
     "metadata": {},
     "output_type": "execute_result"
    }
   ],
   "source": [
    "grad = gradient_op(variables_ex, f_ex)\n",
    "grad"
   ]
  },
  {
   "cell_type": "code",
   "execution_count": 9,
   "metadata": {},
   "outputs": [
    {
     "data": {
      "text/latex": [
       "$\\displaystyle \\left[\\begin{matrix}\\left( \\left( x_{1}, \\  x_{2}\\right) \\mapsto 4 \\left(3 x_{1}^{2} + x_{2}\\right) \\right) & \\left( \\left( x_{1}, \\  x_{2}\\right) \\mapsto 4 x_{1} \\right)\\\\\\left( \\left( x_{1}, \\  x_{2}\\right) \\mapsto 4 x_{1} \\right) & \\left( \\left( x_{1}, \\  x_{2}\\right) \\mapsto 2 \\right)\\end{matrix}\\right]$"
      ],
      "text/plain": [
       "⎡             ⎛    2     ⎞                 ⎤\n",
       "⎢(x₁, x₂) ↦ 4⋅⎝3⋅x₁  + x₂⎠  (x₁, x₂) ↦ 4⋅x₁⎥\n",
       "⎢                                          ⎥\n",
       "⎣     (x₁, x₂) ↦ 4⋅x₁        (x₁, x₂) ↦ 2  ⎦"
      ]
     },
     "execution_count": 9,
     "metadata": {},
     "output_type": "execute_result"
    }
   ],
   "source": [
    "hes = hessiano_op(variables_ex, f_ex)\n",
    "hes"
   ]
  },
  {
   "cell_type": "markdown",
   "metadata": {},
   "source": [
    "# Aplicação dos Algoritmos\n",
    "\n",
    "Para tal, foi construído uma função para cada um dos algoritmos: Gradiente (GR), Newton Globalizado (NG)\n",
    "e Secante Globalizado (DFP). Onde: \n",
    "\n",
    "- as entradas são: *variaveis, função a ser minimizada, x0, epson (ou precisão)*\n",
    "- as saídas são: *x mínimo, valor mínimo da função, número de iterações*."
   ]
  },
  {
   "cell_type": "markdown",
   "metadata": {},
   "source": [
    "## Gradiente"
   ]
  },
  {
   "cell_type": "code",
   "execution_count": 10,
   "metadata": {},
   "outputs": [],
   "source": [
    "# Função que aplica o método\n",
    "def GR(variables, f, x0, epi):\n",
    "    fl = Lambda(variables, f)\n",
    "    grad = gradient_op(variables, f)\n",
    "    \n",
    "    k = 0\n",
    "    x = x0\n",
    "    while modulo(gradient_res(grad, x)) > epi and k < M:\n",
    "        grad_l = np.array(gradient_res(grad, x), dtype=np.float)\n",
    "        d = -grad_l\n",
    "        \n",
    "        #calculando xk\n",
    "        t = 1\n",
    "        while fl(*(x+d*t)) > fl(*x) + alp*t*sum(d*grad_l):\n",
    "            t = gama*t\n",
    "    \n",
    "        x = x+d*t\n",
    "        k = k + 1\n",
    "    return x, fl(*x), k"
   ]
  },
  {
   "cell_type": "markdown",
   "metadata": {},
   "source": [
    "### Exemplo com GR"
   ]
  },
  {
   "cell_type": "code",
   "execution_count": 11,
   "metadata": {},
   "outputs": [],
   "source": [
    "# Defini x0\n",
    "x0 = [1,0]"
   ]
  },
  {
   "cell_type": "code",
   "execution_count": 12,
   "metadata": {},
   "outputs": [
    {
     "data": {
      "text/plain": [
       "(array([  5.20131178, -26.82939042]), -20.7549573475399, 2500)"
      ]
     },
     "execution_count": 12,
     "metadata": {},
     "output_type": "execute_result"
    }
   ],
   "source": [
    "# Aplica o Gradiente\n",
    "GR(variables_ex, f_ex, x0, 0.01)"
   ]
  },
  {
   "cell_type": "markdown",
   "metadata": {},
   "source": [
    "#### Função Quadrática com GR"
   ]
  },
  {
   "cell_type": "code",
   "execution_count": 13,
   "metadata": {},
   "outputs": [
    {
     "data": {
      "image/png": "[encoded data removed]",
      "text/latex": [
       "$\\displaystyle \\left( \\left( x_{1}, \\  x_{2}, \\  x_{3}, \\  x_{4}, \\  x_{5}\\right) \\mapsto x_{1}^{2} + 2 x_{2}^{2} + 3 x_{3}^{2} + 4 x_{4}^{2} + 5 x_{5}^{2} \\right)$"
      ],
      "text/plain": [
       "                         2       2       2       2       2\n",
       "(x₁, x₂, x₃, x₄, x₅) ↦ x₁  + 2⋅x₂  + 3⋅x₃  + 4⋅x₄  + 5⋅x₅ "
      ]
     },
     "execution_count": 13,
     "metadata": {},
     "output_type": "execute_result"
    }
   ],
   "source": [
    "init_printing()\n",
    "variables = var('x1:6')\n",
    "f = x1**2+2*x2**2+3*x3**2+4*x4**2+5*x5**2\n",
    "fl = Lambda(variables, f)\n",
    "fl"
   ]
  },
  {
   "cell_type": "code",
   "execution_count": 14,
   "metadata": {},
   "outputs": [],
   "source": [
    "# Defini x0\n",
    "x0 = [1,1,1,1,1]"
   ]
  },
  {
   "cell_type": "code",
   "execution_count": 15,
   "metadata": {
    "scrolled": true
   },
   "outputs": [
    {
     "data": {
      "text/plain": [
       "(array([ 2.08568573e-03,  0.00000000e+00,  9.53674316e-07,  0.00000000e+00,\n",
       "        -6.95228577e-04]),\n",
       " 6.76680156175280e-6,\n",
       " 13)"
      ]
     },
     "execution_count": 15,
     "metadata": {},
     "output_type": "execute_result"
    }
   ],
   "source": [
    "# Aplica o Gradiente\n",
    "GR(variables, f, x0, 0.01)"
   ]
  },
  {
   "cell_type": "code",
   "execution_count": 16,
   "metadata": {},
   "outputs": [
    {
     "data": {
      "text/plain": [
       "(array([ 2.17504248e-06,  0.00000000e+00, -4.54747351e-13,  0.00000000e+00,\n",
       "        -7.25014161e-07]),\n",
       " 7.35903746516739e-12,\n",
       " 27)"
      ]
     },
     "execution_count": 16,
     "metadata": {},
     "output_type": "execute_result"
    }
   ],
   "source": [
    "# Aplica o Gradiente\n",
    "GR(variables, f, x0, 0.00001)"
   ]
  },
  {
   "cell_type": "markdown",
   "metadata": {},
   "source": [
    "#### Rosenbrook com GR"
   ]
  },
  {
   "cell_type": "code",
   "execution_count": 17,
   "metadata": {},
   "outputs": [
    {
     "data": {
      "image/png": "[encoded data removed]",
      "text/latex": [
       "$\\displaystyle \\left( \\left( x_{1}, \\  x_{2}, \\  x_{3}, \\  x_{4}\\right) \\mapsto \\left(x_{1} - 1\\right)^{2} + 100 \\left(- x_{1}^{2} + x_{2}\\right)^{2} + \\left(x_{3} - 1\\right)^{2} + 100 \\left(- x_{3}^{2} + x_{4}\\right)^{2} \\right)$"
      ],
      "text/plain": [
       "                                               2                              \n",
       "                           2       ⎛    2     ⎞            2       ⎛    2     \n",
       "(x₁, x₂, x₃, x₄) ↦ (x₁ - 1)  + 100⋅⎝- x₁  + x₂⎠  + (x₃ - 1)  + 100⋅⎝- x₃  + x₄\n",
       "\n",
       " 2\n",
       "⎞ \n",
       "⎠ "
      ]
     },
     "execution_count": 17,
     "metadata": {},
     "output_type": "execute_result"
    }
   ],
   "source": [
    "init_printing()\n",
    "variables = var('x1:5')\n",
    "f = 100*(x2-x1**2)**2+(x1-1)**2+100*(x4-x3**2)**2+(x3-1)**2\n",
    "fl = Lambda(variables, f)\n",
    "fl"
   ]
  },
  {
   "cell_type": "code",
   "execution_count": 18,
   "metadata": {},
   "outputs": [],
   "source": [
    "# Defini x0\n",
    "x0 = [0,0,0,0]"
   ]
  },
  {
   "cell_type": "code",
   "execution_count": 19,
   "metadata": {},
   "outputs": [
    {
     "data": {
      "text/plain": [
       "(array([0.98150242, 0.96331717, 0.98150242, 0.96331717]),\n",
       " 0.000684498661681655,\n",
       " 2500)"
      ]
     },
     "execution_count": 19,
     "metadata": {},
     "output_type": "execute_result"
    }
   ],
   "source": [
    "# Aplica o Gradiente\n",
    "GR(variables, f, x0, 0.01)"
   ]
  },
  {
   "cell_type": "code",
   "execution_count": 20,
   "metadata": {},
   "outputs": [
    {
     "data": {
      "text/plain": [
       "(array([0.98150242, 0.96331717, 0.98150242, 0.96331717]),\n",
       " 0.000684498661681655,\n",
       " 2500)"
      ]
     },
     "execution_count": 20,
     "metadata": {},
     "output_type": "execute_result"
    }
   ],
   "source": [
    "# Aplica o Gradiente\n",
    "GR(variables, f, x0, 0.001)"
   ]
  },
  {
   "cell_type": "markdown",
   "metadata": {},
   "source": [
    "#### Styblinsky–Tang com GR"
   ]
  },
  {
   "cell_type": "code",
   "execution_count": 21,
   "metadata": {},
   "outputs": [
    {
     "data": {
      "image/png": "[encoded data removed]",
      "text/latex": [
       "$\\displaystyle \\left( \\left( x_{1}, \\  x_{2}, \\  x_{3}\\right) \\mapsto x_{1}^{4} - 16 x_{1}^{2} + 5 x_{1} + x_{2}^{4} - 16 x_{2}^{2} + 5 x_{2} + x_{3}^{4} - 16 x_{3}^{2} + 5 x_{3} \\right)$"
      ],
      "text/plain": [
       "                 4        2            4        2            4        2       \n",
       "(x₁, x₂, x₃) ↦ x₁  - 16⋅x₁  + 5⋅x₁ + x₂  - 16⋅x₂  + 5⋅x₂ + x₃  - 16⋅x₃  + 5⋅x₃"
      ]
     },
     "execution_count": 21,
     "metadata": {},
     "output_type": "execute_result"
    }
   ],
   "source": [
    "init_printing()\n",
    "variables = var('x1:4')\n",
    "f = x1**4-16*x1**2+5*x1+x2**4-16*x2**2+5*x2+x3**4-16*x3**2+5*x3\n",
    "fl = Lambda(variables, f)\n",
    "fl"
   ]
  },
  {
   "cell_type": "code",
   "execution_count": 22,
   "metadata": {},
   "outputs": [],
   "source": [
    "# Defini x0\n",
    "x0 = [0,0,0]"
   ]
  },
  {
   "cell_type": "code",
   "execution_count": 23,
   "metadata": {},
   "outputs": [
    {
     "data": {
      "text/plain": [
       "(array([-2.90355406, -2.90355406, -2.90355406]), -234.996994180997, 6)"
      ]
     },
     "execution_count": 23,
     "metadata": {},
     "output_type": "execute_result"
    }
   ],
   "source": [
    "# Aplica o Gradiente\n",
    "GR(variables, f, x0, 0.01)"
   ]
  },
  {
   "cell_type": "markdown",
   "metadata": {},
   "source": [
    "#### Rastrigin com GR"
   ]
  },
  {
   "cell_type": "code",
   "execution_count": 24,
   "metadata": {},
   "outputs": [
    {
     "data": {
      "image/png": "[encoded data removed]",
      "text/latex": [
       "$\\displaystyle \\left( \\left( x_{1}, \\  x_{2}, \\  x_{3}\\right) \\mapsto x_{1}^{2} + x_{2}^{2} + x_{3}^{2} - 10 \\cos{\\left(2 \\pi x_{1} \\right)} - 10 \\cos{\\left(2 \\pi x_{2} \\right)} - 10 \\cos{\\left(2 \\pi x_{3} \\right)} \\right)$"
      ],
      "text/plain": [
       "                 2     2     2                                                \n",
       "(x₁, x₂, x₃) ↦ x₁  + x₂  + x₃  - 10⋅cos(2⋅π⋅x₁) - 10⋅cos(2⋅π⋅x₂) - 10⋅cos(2⋅π⋅\n",
       "\n",
       "   \n",
       "x₃)"
      ]
     },
     "execution_count": 24,
     "metadata": {},
     "output_type": "execute_result"
    }
   ],
   "source": [
    "init_printing()\n",
    "variables = var('x1:4')\n",
    "f = x1**2 - 10*cos(2*pi*x1)+x2**2 - 10*cos(2*pi*x2)+x3**2 - 10*cos(2*pi*x3)\n",
    "fl = Lambda(variables, f)\n",
    "fl"
   ]
  },
  {
   "cell_type": "code",
   "execution_count": 25,
   "metadata": {},
   "outputs": [],
   "source": [
    "# Defini x0\n",
    "x0 = [0,0,0]"
   ]
  },
  {
   "cell_type": "code",
   "execution_count": 26,
   "metadata": {
    "scrolled": false
   },
   "outputs": [
    {
     "data": {
      "image/png": "[encoded data removed]",
      "text/latex": [
       "$\\displaystyle \\left( \\left[ 0, \\  0, \\  0\\right], \\  -30, \\  0\\right)$"
      ],
      "text/plain": [
       "([0, 0, 0], -30, 0)"
      ]
     },
     "execution_count": 26,
     "metadata": {},
     "output_type": "execute_result"
    }
   ],
   "source": [
    "GR(variables, f, x0, 0.01)"
   ]
  },
  {
   "cell_type": "code",
   "execution_count": 27,
   "metadata": {},
   "outputs": [],
   "source": [
    "# Defini x0\n",
    "x0 = [5,5,5]"
   ]
  },
  {
   "cell_type": "code",
   "execution_count": 28,
   "metadata": {},
   "outputs": [
    {
     "data": {
      "text/plain": [
       "(array([0., 0., 0.]), -30, 1)"
      ]
     },
     "execution_count": 28,
     "metadata": {},
     "output_type": "execute_result"
    }
   ],
   "source": [
    "GR(variables, f, x0, 0.01)"
   ]
  },
  {
   "cell_type": "markdown",
   "metadata": {},
   "source": [
    "## Newton Globalizado"
   ]
  },
  {
   "cell_type": "code",
   "execution_count": 29,
   "metadata": {},
   "outputs": [],
   "source": [
    "# Cálculo da direção\n",
    "def direcao_NG(variables, beta, grad_l, hes_l):\n",
    "    mi = 0\n",
    "    A = []\n",
    "    while True:\n",
    "        A = hes_l + mi*np.identity(len(variables))\n",
    "        try:\n",
    "            d = np.linalg.solve(A, -grad_l)\n",
    "        \n",
    "            if sum(d*grad_l) > -the*modulo(grad_l)*modulo(d):\n",
    "                mi = max(2*mi, beta)\n",
    "            else:\n",
    "                break\n",
    "        except:\n",
    "            mi = max(2*mi, beta)\n",
    "    return d"
   ]
  },
  {
   "cell_type": "code",
   "execution_count": 30,
   "metadata": {},
   "outputs": [],
   "source": [
    "# Função que aplica o método\n",
    "def NG(variables, f, x0, epi):\n",
    "    fl = Lambda(variables, f)\n",
    "    grad = gradient_op(variables, f)\n",
    "    hes = hessiano_op(variables, f)\n",
    "    \n",
    "    k = 0\n",
    "    x = x0\n",
    "    while modulo(gradient_res(grad, x)) > epi and k < M:\n",
    "        grad_l = np.array(gradient_res(grad, x), dtype=np.float)\n",
    "        hes_l = np.array(hessiano_res(hes, x), dtype=np.float)\n",
    "    \n",
    "        d = direcao_NG(variables, beta, grad_l, hes_l)\n",
    "            \n",
    "        #fazendo as verificações de armijo\n",
    "        if modulo(d) < sig*modulo(grad_l):\n",
    "            d = the*(modulo(grad_l)/modulo(d))*d\n",
    "        \n",
    "        #calculando xk\n",
    "        t = 1\n",
    "        while fl(*(x+d*t)) > fl(*x) + alp*t*sum(d*grad_l):\n",
    "            t = gama*t\n",
    "    \n",
    "        x = x+d*t\n",
    "        k = k + 1\n",
    "    return x, fl(*x), k"
   ]
  },
  {
   "cell_type": "markdown",
   "metadata": {},
   "source": [
    "### Exemplo com NG"
   ]
  },
  {
   "cell_type": "code",
   "execution_count": 31,
   "metadata": {},
   "outputs": [],
   "source": [
    "# Defini x0\n",
    "x0 = [1,0]"
   ]
  },
  {
   "cell_type": "code",
   "execution_count": 32,
   "metadata": {},
   "outputs": [
    {
     "data": {
      "text/plain": [
       "(array([    912.44752704, -832559.71010927]), -3649.18237304688, 2500)"
      ]
     },
     "execution_count": 32,
     "metadata": {},
     "output_type": "execute_result"
    }
   ],
   "source": [
    "# Aplica o Newton Globalizado\n",
    "NG(variables_ex, f_ex, x0, 0.01)"
   ]
  },
  {
   "cell_type": "markdown",
   "metadata": {},
   "source": [
    "#### Função Quadrática com NG"
   ]
  },
  {
   "cell_type": "code",
   "execution_count": 33,
   "metadata": {},
   "outputs": [
    {
     "data": {
      "image/png": "[encoded data removed]",
      "text/latex": [
       "$\\displaystyle \\left( \\left( x_{1}, \\  x_{2}, \\  x_{3}, \\  x_{4}, \\  x_{5}\\right) \\mapsto x_{1}^{2} + 2 x_{2}^{2} + 3 x_{3}^{2} + 4 x_{4}^{2} + 5 x_{5}^{2} \\right)$"
      ],
      "text/plain": [
       "                         2       2       2       2       2\n",
       "(x₁, x₂, x₃, x₄, x₅) ↦ x₁  + 2⋅x₂  + 3⋅x₃  + 4⋅x₄  + 5⋅x₅ "
      ]
     },
     "execution_count": 33,
     "metadata": {},
     "output_type": "execute_result"
    }
   ],
   "source": [
    "init_printing()\n",
    "variables = var('x1:6')\n",
    "f = x1**2+2*x2**2+3*x3**2+4*x4**2+5*x5**2\n",
    "fl = Lambda(variables, f)\n",
    "fl"
   ]
  },
  {
   "cell_type": "code",
   "execution_count": 34,
   "metadata": {},
   "outputs": [],
   "source": [
    "# Defini x0\n",
    "x0 = [1,1,1,1,1]"
   ]
  },
  {
   "cell_type": "code",
   "execution_count": 35,
   "metadata": {},
   "outputs": [
    {
     "data": {
      "text/plain": [
       "(array([0., 0., 0., 0., 0.]), 0, 1)"
      ]
     },
     "execution_count": 35,
     "metadata": {},
     "output_type": "execute_result"
    }
   ],
   "source": [
    "# Aplica o Newton Globalizado\n",
    "NG(variables, f, x0, 0.01)"
   ]
  },
  {
   "cell_type": "code",
   "execution_count": 36,
   "metadata": {},
   "outputs": [
    {
     "data": {
      "text/plain": [
       "(array([0., 0., 0., 0., 0.]), 0, 1)"
      ]
     },
     "execution_count": 36,
     "metadata": {},
     "output_type": "execute_result"
    }
   ],
   "source": [
    "# Aplica o Newton Globalizado\n",
    "NG(variables, f, x0, 0.0001)"
   ]
  },
  {
   "cell_type": "markdown",
   "metadata": {},
   "source": [
    "#### Rosenbrook com NG"
   ]
  },
  {
   "cell_type": "code",
   "execution_count": 37,
   "metadata": {},
   "outputs": [
    {
     "data": {
      "image/png": "[encoded data removed]",
      "text/latex": [
       "$\\displaystyle \\left( \\left( x_{1}, \\  x_{2}, \\  x_{3}, \\  x_{4}\\right) \\mapsto \\left(x_{1} - 1\\right)^{2} + 100 \\left(- x_{1}^{2} + x_{2}\\right)^{2} + \\left(x_{3} - 1\\right)^{2} + 100 \\left(- x_{3}^{2} + x_{4}\\right)^{2} \\right)$"
      ],
      "text/plain": [
       "                                               2                              \n",
       "                           2       ⎛    2     ⎞            2       ⎛    2     \n",
       "(x₁, x₂, x₃, x₄) ↦ (x₁ - 1)  + 100⋅⎝- x₁  + x₂⎠  + (x₃ - 1)  + 100⋅⎝- x₃  + x₄\n",
       "\n",
       " 2\n",
       "⎞ \n",
       "⎠ "
      ]
     },
     "execution_count": 37,
     "metadata": {},
     "output_type": "execute_result"
    }
   ],
   "source": [
    "init_printing()\n",
    "variables = var('x1:5')\n",
    "f = 100*(x2-x1**2)**2+(x1-1)**2+100*(x4-x3**2)**2+(x3-1)**2\n",
    "fl = Lambda(variables, f)\n",
    "fl"
   ]
  },
  {
   "cell_type": "code",
   "execution_count": 38,
   "metadata": {},
   "outputs": [],
   "source": [
    "# Defini x0\n",
    "x0 = [0,0,0,0]"
   ]
  },
  {
   "cell_type": "code",
   "execution_count": 39,
   "metadata": {},
   "outputs": [
    {
     "data": {
      "text/plain": [
       "(array([0.99995223, 0.99990215, 0.99995223, 0.99990215]),\n",
       " 5.63790109091734e-9,\n",
       " 12)"
      ]
     },
     "execution_count": 39,
     "metadata": {},
     "output_type": "execute_result"
    }
   ],
   "source": [
    "# Aplica o Newton Globalizado\n",
    "NG(variables, f, x0, 0.01)"
   ]
  },
  {
   "cell_type": "code",
   "execution_count": 40,
   "metadata": {},
   "outputs": [
    {
     "data": {
      "text/plain": [
       "(array([1., 1., 1., 1.]), 6.84151946004567e-28, 14)"
      ]
     },
     "execution_count": 40,
     "metadata": {},
     "output_type": "execute_result"
    }
   ],
   "source": [
    "NG(variables, f, x0, 0.000001)"
   ]
  },
  {
   "cell_type": "markdown",
   "metadata": {},
   "source": [
    "#### Styblinsky–Tang com NG"
   ]
  },
  {
   "cell_type": "code",
   "execution_count": 41,
   "metadata": {},
   "outputs": [
    {
     "data": {
      "image/png": "[encoded data removed]",
      "text/latex": [
       "$\\displaystyle \\left( \\left( x_{1}, \\  x_{2}, \\  x_{3}\\right) \\mapsto x_{1}^{4} - 16 x_{1}^{2} + 5 x_{1} + x_{2}^{4} - 16 x_{2}^{2} + 5 x_{2} + x_{3}^{4} - 16 x_{3}^{2} + 5 x_{3} \\right)$"
      ],
      "text/plain": [
       "                 4        2            4        2            4        2       \n",
       "(x₁, x₂, x₃) ↦ x₁  - 16⋅x₁  + 5⋅x₁ + x₂  - 16⋅x₂  + 5⋅x₂ + x₃  - 16⋅x₃  + 5⋅x₃"
      ]
     },
     "execution_count": 41,
     "metadata": {},
     "output_type": "execute_result"
    }
   ],
   "source": [
    "init_printing()\n",
    "variables = var('x1:4')\n",
    "f = x1**4-16*x1**2+5*x1+x2**4-16*x2**2+5*x2+x3**4-16*x3**2+5*x3\n",
    "fl = Lambda(variables, f)\n",
    "fl"
   ]
  },
  {
   "cell_type": "code",
   "execution_count": 42,
   "metadata": {},
   "outputs": [],
   "source": [
    "# Defini x0\n",
    "x0 = [0,0,0]"
   ]
  },
  {
   "cell_type": "code",
   "execution_count": 43,
   "metadata": {},
   "outputs": [
    {
     "data": {
      "text/plain": [
       "(array([-2.90353471, -2.90353471, -2.90353471]), -234.996994222581, 4)"
      ]
     },
     "execution_count": 43,
     "metadata": {},
     "output_type": "execute_result"
    }
   ],
   "source": [
    "NG(variables, f, x0, 0.01)"
   ]
  },
  {
   "cell_type": "markdown",
   "metadata": {},
   "source": [
    "#### Rastrigin com NG"
   ]
  },
  {
   "cell_type": "code",
   "execution_count": 44,
   "metadata": {},
   "outputs": [
    {
     "data": {
      "image/png": "[encoded data removed]",
      "text/latex": [
       "$\\displaystyle \\left( \\left( x_{1}, \\  x_{2}, \\  x_{3}\\right) \\mapsto x_{1}^{2} + x_{2}^{2} + x_{3}^{2} - 10 \\cos{\\left(2 \\pi x_{1} \\right)} - 10 \\cos{\\left(2 \\pi x_{2} \\right)} - 10 \\cos{\\left(2 \\pi x_{3} \\right)} \\right)$"
      ],
      "text/plain": [
       "                 2     2     2                                                \n",
       "(x₁, x₂, x₃) ↦ x₁  + x₂  + x₃  - 10⋅cos(2⋅π⋅x₁) - 10⋅cos(2⋅π⋅x₂) - 10⋅cos(2⋅π⋅\n",
       "\n",
       "   \n",
       "x₃)"
      ]
     },
     "execution_count": 44,
     "metadata": {},
     "output_type": "execute_result"
    }
   ],
   "source": [
    "init_printing()\n",
    "variables = var('x1:4')\n",
    "f = x1**2 - 10*cos(2*pi*x1)+x2**2 - 10*cos(2*pi*x2)+x3**2 - 10*cos(2*pi*x3)\n",
    "fl = Lambda(variables, f)\n",
    "fl"
   ]
  },
  {
   "cell_type": "code",
   "execution_count": 45,
   "metadata": {},
   "outputs": [],
   "source": [
    "# Defini x0\n",
    "x0 = [0,0,0]"
   ]
  },
  {
   "cell_type": "code",
   "execution_count": 46,
   "metadata": {},
   "outputs": [
    {
     "data": {
      "image/png": "[encoded data removed]",
      "text/latex": [
       "$\\displaystyle \\left( \\left[ 0, \\  0, \\  0\\right], \\  -30, \\  0\\right)$"
      ],
      "text/plain": [
       "([0, 0, 0], -30, 0)"
      ]
     },
     "execution_count": 46,
     "metadata": {},
     "output_type": "execute_result"
    }
   ],
   "source": [
    "NG(variables, f, x0, 0.01)"
   ]
  },
  {
   "cell_type": "code",
   "execution_count": 47,
   "metadata": {},
   "outputs": [],
   "source": [
    "# Defini x0\n",
    "x0 = [5,5,5]"
   ]
  },
  {
   "cell_type": "code",
   "execution_count": 48,
   "metadata": {},
   "outputs": [
    {
     "data": {
      "text/plain": [
       "(array([4.9746914, 4.9746914, 4.9746914]),\n",
       " 74.2426634715323 - 30*cos(1.94938279302003*pi),\n",
       " 2)"
      ]
     },
     "execution_count": 48,
     "metadata": {},
     "output_type": "execute_result"
    }
   ],
   "source": [
    "NG(variables, f, x0, 0.00001)"
   ]
  },
  {
   "cell_type": "code",
   "execution_count": 49,
   "metadata": {},
   "outputs": [
    {
     "data": {
      "image/png": "[encoded data removed]",
      "text/latex": [
       "$\\displaystyle 44.6360073153743$"
      ],
      "text/plain": [
       "44.6360073153743"
      ]
     },
     "execution_count": 49,
     "metadata": {},
     "output_type": "execute_result"
    }
   ],
   "source": [
    "74.2458269771614 - 30*cos(1.94959476408705*3.14)"
   ]
  },
  {
   "cell_type": "markdown",
   "metadata": {},
   "source": [
    "## Secante Globalizado"
   ]
  },
  {
   "cell_type": "code",
   "execution_count": 50,
   "metadata": {},
   "outputs": [],
   "source": [
    "# Função que aplica o método\n",
    "def DFP(variables, f, x0, epi):\n",
    "    fl = Lambda(variables, f)\n",
    "    grad = gradient_op(variables, f)\n",
    "    \n",
    "    k = 0\n",
    "    x = x0\n",
    "    H = np.identity(len(variables))\n",
    "    grad_l = np.array(gradient_res(grad, x), dtype=np.float)\n",
    "    while modulo(gradient_res(grad, x)) > epi and k < M:\n",
    "        d = -H*np.matrix(grad_l).T\n",
    "        d = d.T.tolist()[0]\n",
    "\n",
    "        if sum(d*grad_l) > -the*modulo(grad_l)*modulo(d):\n",
    "            d = -grad_l\n",
    "            H = np.identity(len(variables))\n",
    "            \n",
    "        #fazendo as verificações de armijo \n",
    "        if modulo(d) < sig*modulo(grad_l):\n",
    "            d = the*(modulo(grad_l)/modulo(d))*np.array(d)\n",
    "        \n",
    "        #calculando xk\n",
    "        t = 1\n",
    "        p = x\n",
    "        while fl(*(x+np.array(d)*t)) > fl(*x) + alp*t*sum(d*grad_l):\n",
    "            t = gama*t\n",
    "        x = x+np.array(d)*t\n",
    "        \n",
    "        grad_lprox = np.array(gradient_res(grad, x), dtype=np.float)\n",
    "        p = x - p\n",
    "        q = grad_lprox - grad_l\n",
    "        r = np.matrix(H)*(np.matrix(q).T)\n",
    "        \n",
    "        if sum(np.array(p)*np.array(q)) > 0:\n",
    "            H = H + np.matrix(p).T*np.matrix(p)/(np.matrix(p)*np.matrix(q).T) - r*r.T/(r.T*np.matrix(q).T) \n",
    "     \n",
    "        grad_l = grad_lprox\n",
    "        k = k + 1\n",
    "    return x, fl(*x), k"
   ]
  },
  {
   "cell_type": "markdown",
   "metadata": {},
   "source": [
    "### Exemplo DFP"
   ]
  },
  {
   "cell_type": "code",
   "execution_count": 51,
   "metadata": {},
   "outputs": [],
   "source": [
    "# Defini x0\n",
    "x0 = [1,1]"
   ]
  },
  {
   "cell_type": "code",
   "execution_count": 52,
   "metadata": {},
   "outputs": [
    {
     "data": {
      "text/plain": [
       "(array([   59.31044278, -3516.91049434]), -236.572437439114, 2500)"
      ]
     },
     "execution_count": 52,
     "metadata": {},
     "output_type": "execute_result"
    }
   ],
   "source": [
    "# Aplica o DFP\n",
    "DFP(variables_ex, f_ex, x0, 0.01)"
   ]
  },
  {
   "cell_type": "markdown",
   "metadata": {},
   "source": [
    "#### Função Quadrática com DFP"
   ]
  },
  {
   "cell_type": "code",
   "execution_count": 53,
   "metadata": {},
   "outputs": [
    {
     "data": {
      "image/png": "[encoded data removed]",
      "text/latex": [
       "$\\displaystyle \\left( \\left( x_{1}, \\  x_{2}, \\  x_{3}, \\  x_{4}, \\  x_{5}\\right) \\mapsto x_{1}^{2} + 2 x_{2}^{2} + 3 x_{3}^{2} + 4 x_{4}^{2} + 5 x_{5}^{2} \\right)$"
      ],
      "text/plain": [
       "                         2       2       2       2       2\n",
       "(x₁, x₂, x₃, x₄, x₅) ↦ x₁  + 2⋅x₂  + 3⋅x₃  + 4⋅x₄  + 5⋅x₅ "
      ]
     },
     "execution_count": 53,
     "metadata": {},
     "output_type": "execute_result"
    }
   ],
   "source": [
    "init_printing()\n",
    "variables = var('x1:6')\n",
    "f = x1**2+2*x2**2+3*x3**2+4*x4**2+5*x5**2\n",
    "fl = Lambda(variables, f)\n",
    "fl"
   ]
  },
  {
   "cell_type": "code",
   "execution_count": 54,
   "metadata": {},
   "outputs": [],
   "source": [
    "# Defini x0\n",
    "x0 = [1,1,1,1,1]"
   ]
  },
  {
   "cell_type": "code",
   "execution_count": 55,
   "metadata": {},
   "outputs": [
    {
     "data": {
      "text/plain": [
       "(array([-2.07734013e-05, -4.39438212e-05, -1.04099647e-05, -1.47166860e-05,\n",
       "         1.37994415e-05]),\n",
       " 6.43720145521847e-9,\n",
       " 7)"
      ]
     },
     "execution_count": 55,
     "metadata": {},
     "output_type": "execute_result"
    }
   ],
   "source": [
    "DFP(variables, f, x0, 0.01)"
   ]
  },
  {
   "cell_type": "code",
   "execution_count": 56,
   "metadata": {},
   "outputs": [
    {
     "data": {
      "text/plain": [
       "(array([ 1.46986205e-07,  4.65781158e-07,  3.56589416e-07,  3.10545111e-07,\n",
       "        -2.84068801e-07]),\n",
       " 1.62620563744219e-12,\n",
       " 8)"
      ]
     },
     "execution_count": 56,
     "metadata": {},
     "output_type": "execute_result"
    }
   ],
   "source": [
    "DFP(variables, f, x0, 0.00001)"
   ]
  },
  {
   "cell_type": "markdown",
   "metadata": {},
   "source": [
    "#### Rosenbrook com DFP"
   ]
  },
  {
   "cell_type": "code",
   "execution_count": 57,
   "metadata": {},
   "outputs": [
    {
     "data": {
      "image/png": "[encoded data removed]",
      "text/latex": [
       "$\\displaystyle \\left( \\left( x_{1}, \\  x_{2}, \\  x_{3}, \\  x_{4}\\right) \\mapsto \\left(x_{1} - 1\\right)^{2} + 100 \\left(- x_{1}^{2} + x_{2}\\right)^{2} + \\left(x_{3} - 1\\right)^{2} + 100 \\left(- x_{3}^{2} + x_{4}\\right)^{2} \\right)$"
      ],
      "text/plain": [
       "                                               2                              \n",
       "                           2       ⎛    2     ⎞            2       ⎛    2     \n",
       "(x₁, x₂, x₃, x₄) ↦ (x₁ - 1)  + 100⋅⎝- x₁  + x₂⎠  + (x₃ - 1)  + 100⋅⎝- x₃  + x₄\n",
       "\n",
       " 2\n",
       "⎞ \n",
       "⎠ "
      ]
     },
     "execution_count": 57,
     "metadata": {},
     "output_type": "execute_result"
    }
   ],
   "source": [
    "init_printing()\n",
    "variables = var('x1:5')\n",
    "f = 100*(x2-x1**2)**2+(x1-1)**2+100*(x4-x3**2)**2+(x3-1)**2\n",
    "fl = Lambda(variables, f)\n",
    "fl"
   ]
  },
  {
   "cell_type": "code",
   "execution_count": 58,
   "metadata": {},
   "outputs": [],
   "source": [
    "# Defini x0\n",
    "x0 = [0,0,0,0]"
   ]
  },
  {
   "cell_type": "code",
   "execution_count": 59,
   "metadata": {},
   "outputs": [
    {
     "data": {
      "text/plain": [
       "(array([0.99851741, 0.99701941, 0.99851741, 0.99701941]),\n",
       " 4.45809932426327e-6,\n",
       " 50)"
      ]
     },
     "execution_count": 59,
     "metadata": {},
     "output_type": "execute_result"
    }
   ],
   "source": [
    "DFP(variables, f, x0, 0.01)"
   ]
  },
  {
   "cell_type": "code",
   "execution_count": 60,
   "metadata": {},
   "outputs": [
    {
     "data": {
      "text/plain": [
       "(array([0.99999999, 0.99999998, 0.99999999, 0.99999998]),\n",
       " 3.48177057085698e-16,\n",
       " 60)"
      ]
     },
     "execution_count": 60,
     "metadata": {},
     "output_type": "execute_result"
    }
   ],
   "source": [
    "DFP(variables, f, x0, 0.00001)"
   ]
  },
  {
   "cell_type": "markdown",
   "metadata": {},
   "source": [
    "#### Styblinsky–Tang com DFP"
   ]
  },
  {
   "cell_type": "code",
   "execution_count": 61,
   "metadata": {},
   "outputs": [
    {
     "data": {
      "image/png": "[encoded data removed]",
      "text/latex": [
       "$\\displaystyle \\left( \\left( x_{1}, \\  x_{2}, \\  x_{3}\\right) \\mapsto x_{1}^{4} - 16 x_{1}^{2} + 5 x_{1} + x_{2}^{4} - 16 x_{2}^{2} + 5 x_{2} + x_{3}^{4} - 16 x_{3}^{2} + 5 x_{3} \\right)$"
      ],
      "text/plain": [
       "                 4        2            4        2            4        2       \n",
       "(x₁, x₂, x₃) ↦ x₁  - 16⋅x₁  + 5⋅x₁ + x₂  - 16⋅x₂  + 5⋅x₂ + x₃  - 16⋅x₃  + 5⋅x₃"
      ]
     },
     "execution_count": 61,
     "metadata": {},
     "output_type": "execute_result"
    }
   ],
   "source": [
    "init_printing()\n",
    "variables = var('x1:4')\n",
    "f = x1**4-16*x1**2+5*x1+x2**4-16*x2**2+5*x2+x3**4-16*x3**2+5*x3\n",
    "fl = Lambda(variables, f)\n",
    "fl"
   ]
  },
  {
   "cell_type": "code",
   "execution_count": 62,
   "metadata": {},
   "outputs": [],
   "source": [
    "# Defini x0\n",
    "x0 = [0,0,0]"
   ]
  },
  {
   "cell_type": "code",
   "execution_count": 63,
   "metadata": {},
   "outputs": [
    {
     "data": {
      "text/plain": [
       "(array([-2.90353278, -2.90353278, -2.90353278]), -234.996994222467, 6)"
      ]
     },
     "execution_count": 63,
     "metadata": {},
     "output_type": "execute_result"
    }
   ],
   "source": [
    "DFP(variables, f, x0, 0.01)"
   ]
  },
  {
   "cell_type": "markdown",
   "metadata": {},
   "source": [
    "#### Rastrigin com DFP"
   ]
  },
  {
   "cell_type": "code",
   "execution_count": 64,
   "metadata": {},
   "outputs": [
    {
     "data": {
      "image/png": "[encoded data removed]",
      "text/latex": [
       "$\\displaystyle \\left( \\left( x_{1}, \\  x_{2}, \\  x_{3}\\right) \\mapsto x_{1}^{2} + x_{2}^{2} + x_{3}^{2} - 10 \\cos{\\left(2 \\pi x_{1} \\right)} - 10 \\cos{\\left(2 \\pi x_{2} \\right)} - 10 \\cos{\\left(2 \\pi x_{3} \\right)} \\right)$"
      ],
      "text/plain": [
       "                 2     2     2                                                \n",
       "(x₁, x₂, x₃) ↦ x₁  + x₂  + x₃  - 10⋅cos(2⋅π⋅x₁) - 10⋅cos(2⋅π⋅x₂) - 10⋅cos(2⋅π⋅\n",
       "\n",
       "   \n",
       "x₃)"
      ]
     },
     "execution_count": 64,
     "metadata": {},
     "output_type": "execute_result"
    }
   ],
   "source": [
    "init_printing()\n",
    "variables = var('x1:4')\n",
    "f = x1**2 - 10*cos(2*pi*x1)+x2**2 - 10*cos(2*pi*x2)+x3**2 - 10*cos(2*pi*x3)\n",
    "fl = Lambda(variables, f)\n",
    "fl"
   ]
  },
  {
   "cell_type": "code",
   "execution_count": 65,
   "metadata": {},
   "outputs": [],
   "source": [
    "# Defini x0\n",
    "x0 = [0,0,0]"
   ]
  },
  {
   "cell_type": "code",
   "execution_count": 66,
   "metadata": {},
   "outputs": [
    {
     "data": {
      "image/png": "[encoded data removed]",
      "text/latex": [
       "$\\displaystyle \\left( \\left[ 0, \\  0, \\  0\\right], \\  -30, \\  0\\right)$"
      ],
      "text/plain": [
       "([0, 0, 0], -30, 0)"
      ]
     },
     "execution_count": 66,
     "metadata": {},
     "output_type": "execute_result"
    }
   ],
   "source": [
    "DFP(variables, f, x0, 0.01)"
   ]
  },
  {
   "cell_type": "code",
   "execution_count": 67,
   "metadata": {},
   "outputs": [],
   "source": [
    "# Defini x0\n",
    "x0 = [5,5,5]"
   ]
  },
  {
   "cell_type": "code",
   "execution_count": 68,
   "metadata": {},
   "outputs": [
    {
     "data": {
      "text/plain": [
       "(array([0., 0., 0.]), -30, 1)"
      ]
     },
     "execution_count": 68,
     "metadata": {},
     "output_type": "execute_result"
    }
   ],
   "source": [
    "DFP(variables, f, x0, 0.01)"
   ]
  },
  {
   "cell_type": "code",
   "execution_count": null,
   "metadata": {},
   "outputs": [],
   "source": []
  }
 ],
 "metadata": {
  "kernelspec": {
   "display_name": "Python 3",
   "language": "python",
   "name": "python3"
  },
  "language_info": {
   "codemirror_mode": {
    "name": "ipython",
    "version": 3
   },
   "file_extension": ".py",
   "mimetype": "text/x-python",
   "name": "python",
   "nbconvert_exporter": "python",
   "pygments_lexer": "ipython3",
   "version": "3.8.5"
  }
 },
 "nbformat": 4,
 "nbformat_minor": 4
}
